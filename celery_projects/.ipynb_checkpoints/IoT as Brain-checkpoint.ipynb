{
 "cells": [
  {
   "cell_type": "markdown",
   "metadata": {},
   "source": [
    "# 使用 Celery 於 Docker Swarm 之上 建構類似 Bluemix 的 IoT 平台\n",
    "## Part II: IoT as Brain\n",
    "\n",
    "Wei Lin  \n",
    "20160128  "
   ]
  },
  {
   "cell_type": "markdown",
   "metadata": {},
   "source": [
    "## 緣起 \n",
    "  [上次](https://github.com/Wei1234c/CeleryOnDockerSwarm/blob/master/celery_projects/CeleryOnDockerSwarm.md) 在 2 台 Raspberry Pi 上面架了一個 Docker Swarm，然後在 Docker Swarm 裡面使用 Celery (distributed task queue) 的機制，利用 8 個 containers 跑 40 個 processes 執行 \"Word Count\" 程式，驗證 Celery + Docker Swarm 是可行的。  \n",
    "\n",
    "  做上述實驗的原因，是為了想利用 Celery + Docker Swarm 快速的建構私有的 類似 [Bluemix](https://console.ng.bluemix.net/) 的 IoT 平台，讓其上的 devices 共同組成一個分散式的協同運算系統，視整個 IoT(Internet of Things) 為一體。     \n",
    "\n",
    "  Celery 所採用的機制，簡單來說就是: producer 發出要求運算的訊息到 queue 中排隊，眾多的 workers 紛紛到 queue 去撿出訊息來進行處理。類比於 Bluemix 和 [MQTT](http://cheng-min-i-taiwan.blogspot.tw/2015/03/raspberry-pimqtt-android.html): producer 就如同 publisher，queue 如同 topic 或 channel，consumer 如同 subscriber，我覺得兩者是十分類似的。 \n",
    "\n",
    "  在 Bluemix 的架構中，IBM 把 clients 區分為 device 和 application 兩種角色，devices 扮演 publisher，負責發送資料到平台上，然後扮演 subscriber 的 applications 會收到資料進行運算處理，資料的產生與運算分離，這樣的設計顯得理所當然，Bluemix 所提供的功能也很完整且強大。\n",
    "  \n",
    "  然而還有另外一種可能，或許 **資料的儲存 與 運算，其實可以是同一件事情**，就如同我們的大腦，資料的儲存與運算都是由 神經**網路** 來完成的。\n",
    "  \n",
    "  我們可以把一個 device 視為一個 neuron，讓 IoT 中眾多的 devices (neurons) 互相連結，經過訓練的 **IoT網路** 就可以自行對環境做出反應，並不需要 集中式的 \"邏輯 applications\"。但是，這樣的 IoT 平台要如何設計呢? \n",
    "  \n",
    "  在**類神經網路**的發展歷史中，**[XOR網路](https://en.wikipedia.org/wiki/Feedforward_neural_network#Multi-layer_perceptron)** 是一個著名的案例，本次的實驗就來試試看用 IoT 做一個 XOR網路，如果這個可以做，應該也可以組成更複雜的東西。\n",
    "  ![XOR 網路](https://upload.wikimedia.org/wikipedia/commons/thumb/7/7b/XOR_perceptron_net.png/250px-XOR_perceptron_net.png \"XOR 網路 (來源: WiKi)\")"
   ]
  },
  {
   "cell_type": "markdown",
   "metadata": {},
   "source": [
    "## 實驗設計與原理:\n",
    "  - 上圖中各 neuron 的代號:\n",
    "   - input layer: x, y\n",
    "   - hidden layer: h1, h2, h3\n",
    "   - output layer: z\n",
    "  - 使用 2 台 Raspberry Pi 組成一個 Docker Swarm。\n",
    "  - Docker Swarm 中 run 6 個 containers，**每個 container 扮演一個 device (neuron)**。\n",
    "  - 這 6 個 devices (neurons)，可以分佈於不同的實體 host 上面，代表其可佈署在 Internet 上任何位置。\n",
    "  - Neurons 之間的連結與權重如上圖所示。**設定 neurons 之間的連結，其實就是在設定 publisher / subscriber 的對應關係**。\n",
    "  - **使用 message queue 來代表 MQTT 中的 \"topic\"，每個 neuron 都有自己專屬的 message queue**，例如:\n",
    "   - neruon h2 有自己專屬的 message queue \"neuron_h2\"，input layer 的 **neuron x 如果想送訊息給 neuron h2，就必須發送到 message queue \"neuron_h2\"**，neruon h2 就會收到訊息。\n",
    "   - 上例中，**neuron x 扮演 publisher，neuron h2 扮演 subscriber。neuron h1 也是 neuron x 的 subscriber**。\n",
    "   - publisher / subscriber 的對應關係 可以是多對多。\n",
    "  - 假設上圖的 x、y neurons 分別接到各自的 sensor，接收 0/1 的資料，每個 device (neuron) 都可以各自外接多個 sensors 感測外部的環境。\n",
    "  - Neuron z 的 output 必須隨時等於 XOR(x, y)"
   ]
  },
  {
   "cell_type": "markdown",
   "metadata": {},
   "source": [
    "## 實作步驟:"
   ]
  },
  {
   "cell_type": "markdown",
   "metadata": {},
   "source": [
    "### 建立 Docker Swarm\n",
    "之前已經參考了這篇 [文章](https://www.facebook.com/groups/docker.taipei/permalink/1704032656498757) 使用兩台 RPi2 建立了一個 Docker Swarm。"
   ]
  },
  {
   "cell_type": "markdown",
   "metadata": {},
   "source": [
    "#### Swarm 中有兩台 Docker machines:\n",
    "- host rpi202(192.168.0.114) 擔任 Swarm Manager，其 Docker machine name 為 master01\n",
    "- host rpi201(192.168.0.109) 擔任 Swarm Node，其 Docker machine name 為 node01"
   ]
  },
  {
   "cell_type": "code",
   "execution_count": null,
   "metadata": {
    "collapsed": true
   },
   "outputs": [],
   "source": [
    "HypriotOS: pi@rpi202 in ~\n",
    "$ docker-machine ls\n",
    "NAME       ACTIVE   DRIVER    STATE     URL                        SWARM\n",
    "master01            hypriot   Running   tcp://192.168.0.114:2376   master01 (master)\n",
    "node01              hypriot   Running   tcp://192.168.0.109:2376   master01\n",
    "HypriotOS: pi@rpi202 in ~\n",
    "$\n",
    "\n",
    "\n",
    "# Swarm 中的 nodes:\n",
    "\n",
    "HypriotOS: pi@rpi202 in /data/celery_projects\n",
    "$ docker $(docker-machine config --swarm master01) info\n",
    "Containers: 4\n",
    "Images: 51\n",
    "Role: primary\n",
    "Strategy: spread\n",
    "Filters: health, port, dependency, affinity, constraint\n",
    "Nodes: 2\n",
    " master01: 192.168.0.114:2376\n",
    "  └ Status: Healthy\n",
    "  └ Containers: 3\n",
    "  └ Reserved CPUs: 0 / 4\n",
    "  └ Reserved Memory: 0 B / 972 MiB\n",
    "  └ Labels: executiondriver=native-0.2, kernelversion=4.1.8-hypriotos-v7+, operatingsystem=Raspbian GNU/Linux 8 (jessie), provider=hypriot, storagedriver=overlay\n",
    " node01: 192.168.0.109:2376\n",
    "  └ Status: Healthy\n",
    "  └ Containers: 1\n",
    "  └ Reserved CPUs: 0 / 4\n",
    "  └ Reserved Memory: 0 B / 972 MiB\n",
    "  └ Labels: executiondriver=native-0.2, kernelversion=4.1.8-hypriotos-v7+, operatingsystem=Raspbian GNU/Linux 8 (jessie), provider=hypriot, storagedriver=overlay\n",
    "CPUs: 8\n",
    "Total Memory: 1.899 GiB\n",
    "Name: fe30da0875d6\n",
    "HypriotOS: pi@rpi202 in /data/celery_projects\n",
    "$"
   ]
  },
  {
   "cell_type": "markdown",
   "metadata": {},
   "source": [
    "### 將檔案 celeryconfig.py、start_workers.sh、資料夾 IoT 複製到 兩台 hosts 的 /data/celery_projects 資料夾之下\n",
    "\n",
    "可以使用 SCP 來達成，參考: http://www.hypexr.org/linux_scp_help.php  \n",
    "\n",
    "例如:  \n",
    "$ scp -r /data/celery_projects root@rpi201:/data/   "
   ]
  },
  {
   "cell_type": "code",
   "execution_count": null,
   "metadata": {
    "collapsed": true
   },
   "outputs": [],
   "source": [
    "# Swarm manager\n",
    "\n",
    "HypriotOS: pi@rpi202 in /data/celery_projects\n",
    "$ ll\n",
    "total 20\n",
    "drwxr-xr-x 3 999 root 4096 Jan 28 10:08 ./\n",
    "drwxr-xr-x 3 999 root 4096 Jan 28 11:02 ../\n",
    "-rw-r--r-- 1 999 root 1469 Jan 28 10:48 celeryconfig.py\n",
    "drwxr-xr-x 3 999 root 4096 Jan 28 10:08 IoT/\n",
    "-rwxr-xr-x 1 999 root  963 Jan 28 10:28 start_workers.sh*   <-- 用來啟動 containers 的 script，只在 Swarm Manager 上有需要\n",
    "HypriotOS: pi@rpi202 in /data/celery_projects\n",
    "$\n",
    "\n",
    "\n",
    "# Swarm node\n",
    "HypriotOS: pi@rpi201 in /data/celery_projects\n",
    "$ ll\n",
    "total 16\n",
    "drwxr-xr-x 3 root root 4096 Jan 28 12:54 ./\n",
    "drwxr-xr-x 3  999 root 4096 Jan 25 22:55 ../\n",
    "-rw-r--r-- 1 root root 1250 Jan 28 11:27 celeryconfig.py\n",
    "drwxr-xr-x 3 root root 4096 Jan 28 12:54 IoT/\n",
    "HypriotOS: pi@rpi201 in /data/celery_projects\n",
    "$"
   ]
  },
  {
   "cell_type": "markdown",
   "metadata": {},
   "source": [
    "#### start_workers.sh 的 內容"
   ]
  },
  {
   "cell_type": "code",
   "execution_count": null,
   "metadata": {
    "collapsed": true
   },
   "outputs": [],
   "source": [
    "#### ./start_workers.sh\n",
    "\n",
    "PROJECT='IoT'  # project 名稱\n",
    "CONCURRENCY=1  # 每個 worker 可以有幾個 subprocesses\n",
    "\n",
    "\n",
    "\n",
    "echo \"Starting Redis, Flower _________________________________________________\"\n",
    "eval $(docker-machine env master01)\n",
    "\n",
    "docker run -dit -p 6379:6379 --name=redis -v /data:/data hypriot/rpi-redis\n",
    "docker run -d -p 5555:5555 --name=flower --volume=/data/celery_projects:/celery_projects wei1234c/celery_armv7 /bin/sh -c \"cd /celery_projects && celery -A ${PROJECT} flower\"\n",
    "\n",
    "\n",
    "\n",
    "echo \"Starting Celery cluster containers _________________________________________________\"\n",
    "eval $(docker-machine env --swarm master01)\n",
    "\n",
    "for id in 'x' 'y' 'h1' 'h2' 'h3' 'z'\n",
    "do\n",
    "  docker run -d --name=neuron_${id} --hostname=neuron_${id} --volume=/data/celery_projects:/celery_projects wei1234c/celery_armv7 /bin/sh -c \"cd /celery_projects && celery -A ${PROJECT} worker -n %h -Q neuron_${id} --concurrency=${CONCURRENCY} --loglevel=INFO\"\n",
    "done"
   ]
  },
  {
   "cell_type": "markdown",
   "metadata": {},
   "source": [
    "### 執行 start_workers.sh，這會做以下幾件事情:\n",
    "- 建立 Celery 所需的 Broker，使用 Redis\n",
    "- 建立監控用的 Flower container\n",
    "- 透過 Swarm Manager 建立並佈署代表 neurons 的 Celery worker containers"
   ]
  },
  {
   "cell_type": "code",
   "execution_count": null,
   "metadata": {
    "collapsed": true
   },
   "outputs": [],
   "source": [
    "HypriotOS: pi@rpi202 in /data/celery_projects\n",
    "$ ./start_workers.sh\n",
    "Starting Redis, Flower _________________________________________________\n",
    "cb706da89689211601b931e88921df1564c939a2cdb3de7bda0f4fa878424553\n",
    "e136f3f443a46b1a1082b26d367c6c146327d54a3eb9f16aa907dd48bce38a47\n",
    "Starting Celery cluster containers _________________________________________________\n",
    "684e3d7b84bfa4713a972d434507473d33adcbaad092e32518a291f7e095c86f\n",
    "8608740a5a86977f82dc2943feb315575a2ca9e38ebb1a2c73842567c87a865d\n",
    "1b5180f0284c8c2aa723c63b4297e57fd35cc5a2c0b1ef5dded3bc3026202f61\n",
    "a6679a9bb651dc735725ecd7b4793f27d598efdd4179c008afaae1e4322b0a42\n",
    "3a59323ae8f61e76e80595a67e98293c0d42f96b1ac47205aff48d863b321aba\n",
    "6c0d6a8bb590961e9947bf1d15587f1c0017b114a466fc7061d2fe888740026e\n",
    "HypriotOS: pi@rpi202 in /data/celery_projects\n",
    "$"
   ]
  },
  {
   "cell_type": "markdown",
   "metadata": {},
   "source": [
    "#### 共有 6 個 neurons\n",
    "neuron x, y, z, h1, h2 都被佈署到 Swarm node \"node01' 上面，"
   ]
  },
  {
   "cell_type": "code",
   "execution_count": null,
   "metadata": {
    "collapsed": true
   },
   "outputs": [],
   "source": [
    "HypriotOS: pi@rpi201 in ~\n",
    "$ docker ps\n",
    "CONTAINER ID        IMAGE                   COMMAND                  CREATED              STATUS              PORTS               NAMES\n",
    "6c0d6a8bb590        wei1234c/celery_armv7   \"/bin/sh -c 'cd /cele\"   About a minute ago   Up About a minute   5555/tcp            neuron_z\n",
    "a6679a9bb651        wei1234c/celery_armv7   \"/bin/sh -c 'cd /cele\"   About a minute ago   Up About a minute   5555/tcp            neuron_h2\n",
    "1b5180f0284c        wei1234c/celery_armv7   \"/bin/sh -c 'cd /cele\"   About a minute ago   Up About a minute   5555/tcp            neuron_h1\n",
    "8608740a5a86        wei1234c/celery_armv7   \"/bin/sh -c 'cd /cele\"   About a minute ago   Up About a minute   5555/tcp            neuron_y\n",
    "684e3d7b84bf        wei1234c/celery_armv7   \"/bin/sh -c 'cd /cele\"   2 minutes ago        Up 2 minutes        5555/tcp            neuron_x\n",
    "ef0c519ae7da        hypriot/rpi-swarm       \"/swarm join --advert\"   4 minutes ago        Up 4 minutes        2375/tcp            swarm-agent\n",
    "HypriotOS: pi@rpi201 in ~\n",
    "$ "
   ]
  },
  {
   "cell_type": "markdown",
   "metadata": {},
   "source": [
    "只有 h3 被安排在 Swarm manager 這台 \"master01\" machine 上。"
   ]
  },
  {
   "cell_type": "code",
   "execution_count": null,
   "metadata": {
    "collapsed": true
   },
   "outputs": [],
   "source": [
    "HypriotOS: pi@rpi202 in /data/celery_projects\n",
    "$ docker ps\n",
    "CONTAINER ID        IMAGE                      COMMAND                  CREATED              STATUS              PORTS                                                                    NAMES\n",
    "3a59323ae8f6        wei1234c/celery_armv7      \"/bin/sh -c 'cd /cele\"   35 seconds ago       Up 32 seconds       5555/tcp                                                                 neuron_h3\n",
    "e136f3f443a4        wei1234c/celery_armv7      \"/bin/sh -c 'cd /cele\"   About a minute ago   Up About a minute   0.0.0.0:5555->5555/tcp                                                   flower\n",
    "cb706da89689        hypriot/rpi-redis          \"/entrypoint.sh redis\"   About a minute ago   Up About a minute   0.0.0.0:6379->6379/tcp                                                   redis\n",
    "966928d0a37c        hypriot/rpi-swarm          \"/swarm join --advert\"   3 minutes ago        Up 3 minutes        2375/tcp                                                                 swarm-agent\n",
    "b01b05cbe323        hypriot/rpi-swarm          \"/swarm manage --tlsv\"   4 minutes ago        Up 4 minutes        2375/tcp, 0.0.0.0:3376->3376/tcp                                         swarm-agent-master\n",
    "ab78ab3e5476        nimblestratus/rpi-consul   \"/bin/start -server -\"   4 minutes ago        Up 4 minutes        53/udp, 8300-8302/tcp, 8400/tcp, 0.0.0.0:8500->8500/tcp, 8301-8302/udp   consul\n",
    "HypriotOS: pi@rpi202 in /data/celery_projects\n",
    "$ "
   ]
  },
  {
   "cell_type": "markdown",
   "metadata": {},
   "source": [
    "#### 從 Swarm Manager 的視角 綜觀全局"
   ]
  },
  {
   "cell_type": "code",
   "execution_count": null,
   "metadata": {
    "collapsed": true
   },
   "outputs": [],
   "source": [
    "HypriotOS: pi@rpi202 in /data/celery_projects\n",
    "$ docker $(docker-machine config --swarm master01) ps\n",
    "CONTAINER ID        IMAGE                      COMMAND                  CREATED             STATUS              PORTS                                                                          NAMES\n",
    "6c0d6a8bb590        wei1234c/celery_armv7      \"/bin/sh -c 'cd /cele\"   2 minutes ago       Up 2 minutes        5555/tcp                                                                       node01/neuron_z\n",
    "3a59323ae8f6        wei1234c/celery_armv7      \"/bin/sh -c 'cd /cele\"   2 minutes ago       Up 2 minutes        5555/tcp                                                                       master01/neuron_h3\n",
    "a6679a9bb651        wei1234c/celery_armv7      \"/bin/sh -c 'cd /cele\"   2 minutes ago       Up 2 minutes        5555/tcp                                                                       node01/neuron_h2\n",
    "1b5180f0284c        wei1234c/celery_armv7      \"/bin/sh -c 'cd /cele\"   2 minutes ago       Up 2 minutes        5555/tcp                                                                       node01/neuron_h1\n",
    "8608740a5a86        wei1234c/celery_armv7      \"/bin/sh -c 'cd /cele\"   3 minutes ago       Up 3 minutes        5555/tcp                                                                       node01/neuron_y\n",
    "684e3d7b84bf        wei1234c/celery_armv7      \"/bin/sh -c 'cd /cele\"   3 minutes ago       Up 3 minutes        5555/tcp                                                                       node01/neuron_x\n",
    "e136f3f443a4        wei1234c/celery_armv7      \"/bin/sh -c 'cd /cele\"   3 minutes ago       Up 3 minutes        192.168.0.114:5555->5555/tcp                                                   master01/flower\n",
    "cb706da89689        hypriot/rpi-redis          \"/entrypoint.sh redis\"   3 minutes ago       Up 3 minutes        192.168.0.114:6379->6379/tcp                                                   master01/redis\n",
    "ef0c519ae7da        hypriot/rpi-swarm          \"/swarm join --advert\"   5 minutes ago       Up 5 minutes        2375/tcp                                                                       node01/swarm-agent\n",
    "966928d0a37c        hypriot/rpi-swarm          \"/swarm join --advert\"   5 minutes ago       Up 5 minutes        2375/tcp                                                                       master01/swarm-agent\n",
    "b01b05cbe323        hypriot/rpi-swarm          \"/swarm manage --tlsv\"   5 minutes ago       Up 5 minutes        2375/tcp, 192.168.0.114:3376->3376/tcp                                         master01/swarm-agent-master\n",
    "ab78ab3e5476        nimblestratus/rpi-consul   \"/bin/start -server -\"   6 minutes ago       Up 6 minutes        53/udp, 8300-8302/tcp, 8301-8302/udp, 8400/tcp, 192.168.0.114:8500->8500/tcp   master01/consul\n",
    "HypriotOS: pi@rpi202 in /data/celery_projects\n",
    "$"
   ]
  },
  {
   "cell_type": "markdown",
   "metadata": {},
   "source": [
    "---\n",
    "\n",
    "### <font color=\"red\">開始下指令config網路</font>"
   ]
  },
  {
   "cell_type": "code",
   "execution_count": 2,
   "metadata": {
    "collapsed": false
   },
   "outputs": [],
   "source": [
    "from IoT.neuron import * \n",
    "from time import sleep\n",
    "import pandas as pd\n",
    "from pandas import DataFrame\n",
    "\n",
    "pd.options.display.max_colwidth = 400\n",
    "REFRACTORY_PERIOD = 0.1"
   ]
  },
  {
   "cell_type": "code",
   "execution_count": 3,
   "metadata": {
    "collapsed": false
   },
   "outputs": [],
   "source": [
    "neurons = ['neuron_x', 'neuron_y', 'neuron_h1', 'neuron_h2', 'neuron_h3', 'neuron_z'] \n",
    "\n",
    "def printConfig(neuron):\n",
    "    print('{0} config:\\n {1}'.format(neuron, getConfig.apply_async(routing_key = neuron).get()))\n",
    "\n",
    "def emptyLogs():\n",
    "    for neuron in neurons:\n",
    "        emptyLog.apply_async(routing_key = neuron)\n",
    "\n",
    "def mergeLogs():\n",
    "    logs = []\n",
    "    \n",
    "    for neuron in neurons:\n",
    "        currentLog = getLog.apply_async(routing_key = neuron).get()\n",
    "        logs += currentLog\n",
    "        \n",
    "#     logs = group([getLog.subtask(routing_key = neuron) for neuron in neurons]).apply_async().get()\n",
    "            \n",
    "    df = DataFrame(list(logs), columns = ['time', 'neuron', 'message']) \n",
    "    df.set_index('time', inplace = True)\n",
    "    df.sort_index(inplace = True)\n",
    "    \n",
    "    return df"
   ]
  },
  {
   "cell_type": "markdown",
   "metadata": {},
   "source": [
    "### 清空 log files"
   ]
  },
  {
   "cell_type": "code",
   "execution_count": 4,
   "metadata": {
    "collapsed": false
   },
   "outputs": [],
   "source": [
    "emptyLogs()"
   ]
  },
  {
   "cell_type": "markdown",
   "metadata": {
    "collapsed": true
   },
   "source": [
    "### 設定 connections\n",
    "#### 設定 neurons 之間的連結，其實就是在設定 publisher / subscriber 的對應關係"
   ]
  },
  {
   "cell_type": "code",
   "execution_count": 5,
   "metadata": {
    "collapsed": false
   },
   "outputs": [
    {
     "data": {
      "text/plain": [
       "<AsyncResult: 2a0a055e-19d2-40dc-a009-a7ee504a812c>"
      ]
     },
     "execution_count": 5,
     "metadata": {},
     "output_type": "execute_result"
    }
   ],
   "source": [
    "# input layer fan out\n",
    "# neuron x\n",
    "addConnection.apply_async(['neuron_h1'], routing_key = 'neuron_x')\n",
    "addConnection.apply_async(['neuron_h2'], routing_key = 'neuron_x')\n",
    "# neuron y\n",
    "addConnection.apply_async(['neuron_h2'], routing_key = 'neuron_y')\n",
    "addConnection.apply_async(['neuron_h3'], routing_key = 'neuron_y')\n",
    "\n",
    "# hidden layer fan out\n",
    "addConnection.apply_async(['neuron_z'], routing_key = 'neuron_h1')\n",
    "addConnection.apply_async(['neuron_z'], routing_key = 'neuron_h2')\n",
    "addConnection.apply_async(['neuron_z'], routing_key = 'neuron_h3')"
   ]
  },
  {
   "cell_type": "markdown",
   "metadata": {},
   "source": [
    "### 設定 weights"
   ]
  },
  {
   "cell_type": "code",
   "execution_count": 6,
   "metadata": {
    "collapsed": false
   },
   "outputs": [
    {
     "data": {
      "text/plain": [
       "<AsyncResult: dcd57b9a-caf0-48a6-8100-804e5887d951>"
      ]
     },
     "execution_count": 6,
     "metadata": {},
     "output_type": "execute_result"
    }
   ],
   "source": [
    "# input layer \n",
    "# neuron x\n",
    "setWeight.apply_async(['sensor_x_1', 1], routing_key = 'neuron_x')\n",
    "setWeight.apply_async(['sensor_x_2', 1], routing_key = 'neuron_x')\n",
    "# neuron y\n",
    "setWeight.apply_async(['sensor_y_1', 1], routing_key = 'neuron_y')\n",
    "setWeight.apply_async(['sensor_y_2', 1], routing_key = 'neuron_y')\n",
    "\n",
    "# hidden layer\n",
    "setWeight.apply_async(['neuron_x', 1], routing_key = 'neuron_h1')\n",
    "setWeight.apply_async(['neuron_x', 1], routing_key = 'neuron_h2')\n",
    "setWeight.apply_async(['neuron_y', 1], routing_key = 'neuron_h2')\n",
    "setWeight.apply_async(['neuron_y', 1], routing_key = 'neuron_h3')\n",
    "\n",
    "# output layer\n",
    "setWeight.apply_async(['neuron_h1', 1], routing_key = 'neuron_z')\n",
    "setWeight.apply_async(['neuron_h2', -2], routing_key = 'neuron_z')\n",
    "setWeight.apply_async(['neuron_h3', 1], routing_key = 'neuron_z') "
   ]
  },
  {
   "cell_type": "markdown",
   "metadata": {},
   "source": [
    "### 設定 thresholds"
   ]
  },
  {
   "cell_type": "code",
   "execution_count": 7,
   "metadata": {
    "collapsed": false
   },
   "outputs": [
    {
     "data": {
      "text/plain": [
       "<AsyncResult: cad54531-8536-4303-b71f-cc16ced62296>"
      ]
     },
     "execution_count": 7,
     "metadata": {},
     "output_type": "execute_result"
    }
   ],
   "source": [
    "# input layer \n",
    "setThreshold.apply_async([0.9], routing_key = 'neuron_x') \n",
    "setThreshold.apply_async([0.9], routing_key = 'neuron_y') \n",
    "\n",
    "# hidden layer\n",
    "setThreshold.apply_async([0.9], routing_key = 'neuron_h1')\n",
    "setThreshold.apply_async([1.9], routing_key = 'neuron_h2')\n",
    "setThreshold.apply_async([0.9], routing_key = 'neuron_h3')\n",
    "\n",
    "# output layer\n",
    "setThreshold.apply_async([0.9], routing_key = 'neuron_z') "
   ]
  },
  {
   "cell_type": "markdown",
   "metadata": {},
   "source": [
    "### 模擬 sensor input，然後查看各 neurons 的 output 狀態\n",
    "一個 neuron fire 之後，如果沒有持續的輸入可維持 fire 的狀態，則過 5 秒鐘之 neuron 的 output 一定為 0"
   ]
  },
  {
   "cell_type": "code",
   "execution_count": 8,
   "metadata": {
    "collapsed": false
   },
   "outputs": [
    {
     "data": {
      "text/html": [
       "<div>\n",
       "<table border=\"1\" class=\"dataframe\">\n",
       "  <thead>\n",
       "    <tr style=\"text-align: right;\">\n",
       "      <th></th>\n",
       "      <th>neuron</th>\n",
       "      <th>message</th>\n",
       "    </tr>\n",
       "    <tr>\n",
       "      <th>time</th>\n",
       "      <th></th>\n",
       "      <th></th>\n",
       "    </tr>\n",
       "  </thead>\n",
       "  <tbody>\n",
       "  </tbody>\n",
       "</table>\n",
       "</div>"
      ],
      "text/plain": [
       "Empty DataFrame\n",
       "Columns: [neuron, message]\n",
       "Index: []"
      ]
     },
     "execution_count": 8,
     "metadata": {},
     "output_type": "execute_result"
    }
   ],
   "source": [
    "### 模擬 sensor input，強迫 neuron x 或 y ouput 1\n",
    "emptyLogs()\n",
    "sleep(REFRACTORY_PERIOD)  # 等電位歸零 \n",
    "mergeLogs()"
   ]
  },
  {
   "cell_type": "code",
   "execution_count": 9,
   "metadata": {
    "collapsed": false
   },
   "outputs": [
    {
     "data": {
      "text/html": [
       "<div>\n",
       "<table border=\"1\" class=\"dataframe\">\n",
       "  <thead>\n",
       "    <tr style=\"text-align: right;\">\n",
       "      <th></th>\n",
       "      <th>neuron</th>\n",
       "      <th>message</th>\n",
       "    </tr>\n",
       "    <tr>\n",
       "      <th>time</th>\n",
       "      <th></th>\n",
       "      <th></th>\n",
       "    </tr>\n",
       "  </thead>\n",
       "  <tbody>\n",
       "    <tr>\n",
       "      <th>2016-02-06 11:55:00.736892</th>\n",
       "      <td>neuron_x</td>\n",
       "      <td>neuron_x fires.</td>\n",
       "    </tr>\n",
       "    <tr>\n",
       "      <th>2016-02-06 11:55:00.740273</th>\n",
       "      <td>neuron_x</td>\n",
       "      <td>Setting output of neuron_x to ACTION_POTENTIAL.</td>\n",
       "    </tr>\n",
       "    <tr>\n",
       "      <th>2016-02-06 11:55:01.027600</th>\n",
       "      <td>neuron_h1</td>\n",
       "      <td>neuron_x is kicking neuron_h1.</td>\n",
       "    </tr>\n",
       "    <tr>\n",
       "      <th>2016-02-06 11:55:01.052398</th>\n",
       "      <td>neuron_h2</td>\n",
       "      <td>neuron_x is kicking neuron_h2.</td>\n",
       "    </tr>\n",
       "    <tr>\n",
       "      <th>2016-02-06 11:55:01.070805</th>\n",
       "      <td>neuron_h1</td>\n",
       "      <td>neuron_h1 fires.</td>\n",
       "    </tr>\n",
       "    <tr>\n",
       "      <th>2016-02-06 11:55:01.074571</th>\n",
       "      <td>neuron_h1</td>\n",
       "      <td>Setting output of neuron_h1 to ACTION_POTENTIAL.</td>\n",
       "    </tr>\n",
       "    <tr>\n",
       "      <th>2016-02-06 11:55:01.393400</th>\n",
       "      <td>neuron_z</td>\n",
       "      <td>neuron_h1 is kicking neuron_z.</td>\n",
       "    </tr>\n",
       "    <tr>\n",
       "      <th>2016-02-06 11:55:01.415221</th>\n",
       "      <td>neuron_z</td>\n",
       "      <td>neuron_z fires.</td>\n",
       "    </tr>\n",
       "    <tr>\n",
       "      <th>2016-02-06 11:55:01.419558</th>\n",
       "      <td>neuron_z</td>\n",
       "      <td>Setting output of neuron_z to ACTION_POTENTIAL.</td>\n",
       "    </tr>\n",
       "  </tbody>\n",
       "</table>\n",
       "</div>"
      ],
      "text/plain": [
       "                               neuron  \\\n",
       "time                                    \n",
       "2016-02-06 11:55:00.736892   neuron_x   \n",
       "2016-02-06 11:55:00.740273   neuron_x   \n",
       "2016-02-06 11:55:01.027600  neuron_h1   \n",
       "2016-02-06 11:55:01.052398  neuron_h2   \n",
       "2016-02-06 11:55:01.070805  neuron_h1   \n",
       "2016-02-06 11:55:01.074571  neuron_h1   \n",
       "2016-02-06 11:55:01.393400   neuron_z   \n",
       "2016-02-06 11:55:01.415221   neuron_z   \n",
       "2016-02-06 11:55:01.419558   neuron_z   \n",
       "\n",
       "                                                                     message  \n",
       "time                                                                          \n",
       "2016-02-06 11:55:00.736892                                   neuron_x fires.  \n",
       "2016-02-06 11:55:00.740273   Setting output of neuron_x to ACTION_POTENTIAL.  \n",
       "2016-02-06 11:55:01.027600                    neuron_x is kicking neuron_h1.  \n",
       "2016-02-06 11:55:01.052398                    neuron_x is kicking neuron_h2.  \n",
       "2016-02-06 11:55:01.070805                                  neuron_h1 fires.  \n",
       "2016-02-06 11:55:01.074571  Setting output of neuron_h1 to ACTION_POTENTIAL.  \n",
       "2016-02-06 11:55:01.393400                    neuron_h1 is kicking neuron_z.  \n",
       "2016-02-06 11:55:01.415221                                   neuron_z fires.  \n",
       "2016-02-06 11:55:01.419558   Setting output of neuron_z to ACTION_POTENTIAL.  "
      ]
     },
     "execution_count": 9,
     "metadata": {},
     "output_type": "execute_result"
    }
   ],
   "source": [
    "### 模擬 sensor input，強迫 neuron x 或 y ouput 1\n",
    "emptyLogs()\n",
    "sleep(REFRACTORY_PERIOD)  # 等電位歸零\n",
    "fire.apply_async(routing_key = 'neuron_x') # force neuron x output 1 and fire.\n",
    "mergeLogs()"
   ]
  },
  {
   "cell_type": "code",
   "execution_count": 10,
   "metadata": {
    "collapsed": false
   },
   "outputs": [
    {
     "data": {
      "text/html": [
       "<div>\n",
       "<table border=\"1\" class=\"dataframe\">\n",
       "  <thead>\n",
       "    <tr style=\"text-align: right;\">\n",
       "      <th></th>\n",
       "      <th>neuron</th>\n",
       "      <th>message</th>\n",
       "    </tr>\n",
       "    <tr>\n",
       "      <th>time</th>\n",
       "      <th></th>\n",
       "      <th></th>\n",
       "    </tr>\n",
       "  </thead>\n",
       "  <tbody>\n",
       "    <tr>\n",
       "      <th>2016-02-06 11:55:03.959211</th>\n",
       "      <td>neuron_y</td>\n",
       "      <td>neuron_y fires.</td>\n",
       "    </tr>\n",
       "    <tr>\n",
       "      <th>2016-02-06 11:55:03.963004</th>\n",
       "      <td>neuron_y</td>\n",
       "      <td>Setting output of neuron_y to ACTION_POTENTIAL.</td>\n",
       "    </tr>\n",
       "    <tr>\n",
       "      <th>2016-02-06 11:55:04.287100</th>\n",
       "      <td>neuron_h2</td>\n",
       "      <td>neuron_y is kicking neuron_h2.</td>\n",
       "    </tr>\n",
       "    <tr>\n",
       "      <th>2016-02-06 11:55:04.313811</th>\n",
       "      <td>neuron_h3</td>\n",
       "      <td>neuron_y is kicking neuron_h3.</td>\n",
       "    </tr>\n",
       "    <tr>\n",
       "      <th>2016-02-06 11:55:04.342196</th>\n",
       "      <td>neuron_h3</td>\n",
       "      <td>neuron_h3 fires.</td>\n",
       "    </tr>\n",
       "    <tr>\n",
       "      <th>2016-02-06 11:55:04.347227</th>\n",
       "      <td>neuron_h3</td>\n",
       "      <td>Setting output of neuron_h3 to ACTION_POTENTIAL.</td>\n",
       "    </tr>\n",
       "    <tr>\n",
       "      <th>2016-02-06 11:55:04.659384</th>\n",
       "      <td>neuron_z</td>\n",
       "      <td>neuron_h3 is kicking neuron_z.</td>\n",
       "    </tr>\n",
       "    <tr>\n",
       "      <th>2016-02-06 11:55:04.684047</th>\n",
       "      <td>neuron_z</td>\n",
       "      <td>neuron_z fires.</td>\n",
       "    </tr>\n",
       "    <tr>\n",
       "      <th>2016-02-06 11:55:04.687631</th>\n",
       "      <td>neuron_z</td>\n",
       "      <td>Setting output of neuron_z to ACTION_POTENTIAL.</td>\n",
       "    </tr>\n",
       "  </tbody>\n",
       "</table>\n",
       "</div>"
      ],
      "text/plain": [
       "                               neuron  \\\n",
       "time                                    \n",
       "2016-02-06 11:55:03.959211   neuron_y   \n",
       "2016-02-06 11:55:03.963004   neuron_y   \n",
       "2016-02-06 11:55:04.287100  neuron_h2   \n",
       "2016-02-06 11:55:04.313811  neuron_h3   \n",
       "2016-02-06 11:55:04.342196  neuron_h3   \n",
       "2016-02-06 11:55:04.347227  neuron_h3   \n",
       "2016-02-06 11:55:04.659384   neuron_z   \n",
       "2016-02-06 11:55:04.684047   neuron_z   \n",
       "2016-02-06 11:55:04.687631   neuron_z   \n",
       "\n",
       "                                                                     message  \n",
       "time                                                                          \n",
       "2016-02-06 11:55:03.959211                                   neuron_y fires.  \n",
       "2016-02-06 11:55:03.963004   Setting output of neuron_y to ACTION_POTENTIAL.  \n",
       "2016-02-06 11:55:04.287100                    neuron_y is kicking neuron_h2.  \n",
       "2016-02-06 11:55:04.313811                    neuron_y is kicking neuron_h3.  \n",
       "2016-02-06 11:55:04.342196                                  neuron_h3 fires.  \n",
       "2016-02-06 11:55:04.347227  Setting output of neuron_h3 to ACTION_POTENTIAL.  \n",
       "2016-02-06 11:55:04.659384                    neuron_h3 is kicking neuron_z.  \n",
       "2016-02-06 11:55:04.684047                                   neuron_z fires.  \n",
       "2016-02-06 11:55:04.687631   Setting output of neuron_z to ACTION_POTENTIAL.  "
      ]
     },
     "execution_count": 10,
     "metadata": {},
     "output_type": "execute_result"
    }
   ],
   "source": [
    "### 模擬 sensor input，強迫 neuron x 或 y ouput 1\n",
    "emptyLogs()\n",
    "sleep(REFRACTORY_PERIOD)  # 等電位歸零\n",
    "fire.apply_async(routing_key = 'neuron_y') # force neuron y output 1 and fire.\n",
    "mergeLogs()"
   ]
  },
  {
   "cell_type": "code",
   "execution_count": 11,
   "metadata": {
    "collapsed": false
   },
   "outputs": [
    {
     "data": {
      "text/html": [
       "<div>\n",
       "<table border=\"1\" class=\"dataframe\">\n",
       "  <thead>\n",
       "    <tr style=\"text-align: right;\">\n",
       "      <th></th>\n",
       "      <th>neuron</th>\n",
       "      <th>message</th>\n",
       "    </tr>\n",
       "    <tr>\n",
       "      <th>time</th>\n",
       "      <th></th>\n",
       "      <th></th>\n",
       "    </tr>\n",
       "  </thead>\n",
       "  <tbody>\n",
       "    <tr>\n",
       "      <th>2016-02-06 11:55:06.086488</th>\n",
       "      <td>neuron_x</td>\n",
       "      <td>neuron_x fires.</td>\n",
       "    </tr>\n",
       "    <tr>\n",
       "      <th>2016-02-06 11:55:06.090294</th>\n",
       "      <td>neuron_x</td>\n",
       "      <td>Setting output of neuron_x to ACTION_POTENTIAL.</td>\n",
       "    </tr>\n",
       "    <tr>\n",
       "      <th>2016-02-06 11:55:06.151246</th>\n",
       "      <td>neuron_h1</td>\n",
       "      <td>neuron_x is kicking neuron_h1.</td>\n",
       "    </tr>\n",
       "    <tr>\n",
       "      <th>2016-02-06 11:55:06.172744</th>\n",
       "      <td>neuron_h2</td>\n",
       "      <td>neuron_x is kicking neuron_h2.</td>\n",
       "    </tr>\n",
       "    <tr>\n",
       "      <th>2016-02-06 11:55:06.194168</th>\n",
       "      <td>neuron_h1</td>\n",
       "      <td>neuron_h1 fires.</td>\n",
       "    </tr>\n",
       "    <tr>\n",
       "      <th>2016-02-06 11:55:06.197228</th>\n",
       "      <td>neuron_y</td>\n",
       "      <td>neuron_y fires.</td>\n",
       "    </tr>\n",
       "    <tr>\n",
       "      <th>2016-02-06 11:55:06.210074</th>\n",
       "      <td>neuron_y</td>\n",
       "      <td>Setting output of neuron_y to ACTION_POTENTIAL.</td>\n",
       "    </tr>\n",
       "    <tr>\n",
       "      <th>2016-02-06 11:55:06.220321</th>\n",
       "      <td>neuron_h1</td>\n",
       "      <td>Setting output of neuron_h1 to ACTION_POTENTIAL.</td>\n",
       "    </tr>\n",
       "    <tr>\n",
       "      <th>2016-02-06 11:55:06.282215</th>\n",
       "      <td>neuron_h2</td>\n",
       "      <td>neuron_y is kicking neuron_h2.</td>\n",
       "    </tr>\n",
       "    <tr>\n",
       "      <th>2016-02-06 11:55:06.302487</th>\n",
       "      <td>neuron_h2</td>\n",
       "      <td>neuron_h2 fires.</td>\n",
       "    </tr>\n",
       "    <tr>\n",
       "      <th>2016-02-06 11:55:06.306557</th>\n",
       "      <td>neuron_h2</td>\n",
       "      <td>Setting output of neuron_h2 to ACTION_POTENTIAL.</td>\n",
       "    </tr>\n",
       "    <tr>\n",
       "      <th>2016-02-06 11:55:06.319719</th>\n",
       "      <td>neuron_h3</td>\n",
       "      <td>neuron_y is kicking neuron_h3.</td>\n",
       "    </tr>\n",
       "    <tr>\n",
       "      <th>2016-02-06 11:55:06.345886</th>\n",
       "      <td>neuron_h3</td>\n",
       "      <td>neuron_h3 fires.</td>\n",
       "    </tr>\n",
       "    <tr>\n",
       "      <th>2016-02-06 11:55:06.349735</th>\n",
       "      <td>neuron_h3</td>\n",
       "      <td>Setting output of neuron_h3 to ACTION_POTENTIAL.</td>\n",
       "    </tr>\n",
       "    <tr>\n",
       "      <th>2016-02-06 11:55:06.406929</th>\n",
       "      <td>neuron_z</td>\n",
       "      <td>neuron_h1 is kicking neuron_z.</td>\n",
       "    </tr>\n",
       "    <tr>\n",
       "      <th>2016-02-06 11:55:06.458687</th>\n",
       "      <td>neuron_z</td>\n",
       "      <td>neuron_z fires.</td>\n",
       "    </tr>\n",
       "    <tr>\n",
       "      <th>2016-02-06 11:55:06.463618</th>\n",
       "      <td>neuron_z</td>\n",
       "      <td>Setting output of neuron_z to ACTION_POTENTIAL.</td>\n",
       "    </tr>\n",
       "    <tr>\n",
       "      <th>2016-02-06 11:55:06.517599</th>\n",
       "      <td>neuron_z</td>\n",
       "      <td>neuron_h3 is kicking neuron_z.</td>\n",
       "    </tr>\n",
       "    <tr>\n",
       "      <th>2016-02-06 11:55:06.535545</th>\n",
       "      <td>neuron_z</td>\n",
       "      <td>neuron_z is still in refractory-period.</td>\n",
       "    </tr>\n",
       "    <tr>\n",
       "      <th>2016-02-06 11:55:06.538059</th>\n",
       "      <td>neuron_z</td>\n",
       "      <td>neuron_z is still in refractory_period at action potential, then a neuron neuron_h3 kicks in, now sum_of_weighted_inputs &gt;= threshold.</td>\n",
       "    </tr>\n",
       "    <tr>\n",
       "      <th>2016-02-06 11:55:06.657027</th>\n",
       "      <td>neuron_z</td>\n",
       "      <td>neuron_h2 is kicking neuron_z.</td>\n",
       "    </tr>\n",
       "  </tbody>\n",
       "</table>\n",
       "</div>"
      ],
      "text/plain": [
       "                               neuron  \\\n",
       "time                                    \n",
       "2016-02-06 11:55:06.086488   neuron_x   \n",
       "2016-02-06 11:55:06.090294   neuron_x   \n",
       "2016-02-06 11:55:06.151246  neuron_h1   \n",
       "2016-02-06 11:55:06.172744  neuron_h2   \n",
       "2016-02-06 11:55:06.194168  neuron_h1   \n",
       "2016-02-06 11:55:06.197228   neuron_y   \n",
       "2016-02-06 11:55:06.210074   neuron_y   \n",
       "2016-02-06 11:55:06.220321  neuron_h1   \n",
       "2016-02-06 11:55:06.282215  neuron_h2   \n",
       "2016-02-06 11:55:06.302487  neuron_h2   \n",
       "2016-02-06 11:55:06.306557  neuron_h2   \n",
       "2016-02-06 11:55:06.319719  neuron_h3   \n",
       "2016-02-06 11:55:06.345886  neuron_h3   \n",
       "2016-02-06 11:55:06.349735  neuron_h3   \n",
       "2016-02-06 11:55:06.406929   neuron_z   \n",
       "2016-02-06 11:55:06.458687   neuron_z   \n",
       "2016-02-06 11:55:06.463618   neuron_z   \n",
       "2016-02-06 11:55:06.517599   neuron_z   \n",
       "2016-02-06 11:55:06.535545   neuron_z   \n",
       "2016-02-06 11:55:06.538059   neuron_z   \n",
       "2016-02-06 11:55:06.657027   neuron_z   \n",
       "\n",
       "                                                                                                                                                           message  \n",
       "time                                                                                                                                                                \n",
       "2016-02-06 11:55:06.086488                                                                                                                         neuron_x fires.  \n",
       "2016-02-06 11:55:06.090294                                                                                         Setting output of neuron_x to ACTION_POTENTIAL.  \n",
       "2016-02-06 11:55:06.151246                                                                                                          neuron_x is kicking neuron_h1.  \n",
       "2016-02-06 11:55:06.172744                                                                                                          neuron_x is kicking neuron_h2.  \n",
       "2016-02-06 11:55:06.194168                                                                                                                        neuron_h1 fires.  \n",
       "2016-02-06 11:55:06.197228                                                                                                                         neuron_y fires.  \n",
       "2016-02-06 11:55:06.210074                                                                                         Setting output of neuron_y to ACTION_POTENTIAL.  \n",
       "2016-02-06 11:55:06.220321                                                                                        Setting output of neuron_h1 to ACTION_POTENTIAL.  \n",
       "2016-02-06 11:55:06.282215                                                                                                          neuron_y is kicking neuron_h2.  \n",
       "2016-02-06 11:55:06.302487                                                                                                                        neuron_h2 fires.  \n",
       "2016-02-06 11:55:06.306557                                                                                        Setting output of neuron_h2 to ACTION_POTENTIAL.  \n",
       "2016-02-06 11:55:06.319719                                                                                                          neuron_y is kicking neuron_h3.  \n",
       "2016-02-06 11:55:06.345886                                                                                                                        neuron_h3 fires.  \n",
       "2016-02-06 11:55:06.349735                                                                                        Setting output of neuron_h3 to ACTION_POTENTIAL.  \n",
       "2016-02-06 11:55:06.406929                                                                                                          neuron_h1 is kicking neuron_z.  \n",
       "2016-02-06 11:55:06.458687                                                                                                                         neuron_z fires.  \n",
       "2016-02-06 11:55:06.463618                                                                                         Setting output of neuron_z to ACTION_POTENTIAL.  \n",
       "2016-02-06 11:55:06.517599                                                                                                          neuron_h3 is kicking neuron_z.  \n",
       "2016-02-06 11:55:06.535545                                                                                                 neuron_z is still in refractory-period.  \n",
       "2016-02-06 11:55:06.538059  neuron_z is still in refractory_period at action potential, then a neuron neuron_h3 kicks in, now sum_of_weighted_inputs >= threshold.  \n",
       "2016-02-06 11:55:06.657027                                                                                                          neuron_h2 is kicking neuron_z.  "
      ]
     },
     "execution_count": 11,
     "metadata": {},
     "output_type": "execute_result"
    }
   ],
   "source": [
    "### 模擬 sensor input，強迫 neuron x 或 y ouput 1\n",
    "emptyLogs()\n",
    "sleep(REFRACTORY_PERIOD)  # 等電位歸零\n",
    "fire.apply_async(routing_key = 'neuron_x') # force neuron x output 1 and fire.\n",
    "fire.apply_async(routing_key = 'neuron_y') # force neuron y output 1 and fire.\n",
    "mergeLogs()"
   ]
  },
  {
   "cell_type": "markdown",
   "metadata": {},
   "source": [
    "### [Flower](http://192.168.0.114:5555) 中顯示各 worker 處理的 messages 數量:\n",
    "\n",
    "![各 neuron 的活動次數](https://github.com/Wei1234c/IOTasBrain/raw/master/celery_projects/jpgs/flower2.jpg \"各 neuron 的活動次數\")"
   ]
  },
  {
   "cell_type": "markdown",
   "metadata": {},
   "source": [
    "### 各 neurons 的 config 狀態:"
   ]
  },
  {
   "cell_type": "code",
   "execution_count": 12,
   "metadata": {
    "collapsed": false
   },
   "outputs": [
    {
     "name": "stdout",
     "output_type": "stream",
     "text": [
      "neuron_z config:\n",
      " {'weights': {'neuron_h1': 1, 'neuron_h2': -2, 'neuron_h3': 1}, 'inputs': {'neuron_h1': {'value': 1, 'kick_time': datetime.datetime(2016, 2, 6, 11, 55, 6, 411869), 'lasting': datetime.timedelta(0, 0, 500000)}, 'neuron_h2': {'value': 1, 'kick_time': datetime.datetime(2016, 2, 6, 11, 55, 6, 661686), 'lasting': datetime.timedelta(0, 0, 500000)}, 'neuron_h3': {'value': 1, 'kick_time': datetime.datetime(2016, 2, 6, 11, 55, 6, 525779), 'lasting': datetime.timedelta(0, 0, 500000)}}, 'output': {'value': 1, 'polarized_time': datetime.datetime(2016, 2, 6, 11, 55, 6, 467593), 'lasting': datetime.timedelta(0, 0, 100000)}, 'threshold': 0.9}\n",
      "neuron_h3 config:\n",
      " {'weights': {'neuron_y': 1}, 'inputs': {'neuron_y': {'value': 1, 'kick_time': datetime.datetime(2016, 2, 6, 11, 55, 6, 323299), 'lasting': datetime.timedelta(0, 0, 500000)}}, 'output': {'value': 1, 'polarized_time': datetime.datetime(2016, 2, 6, 11, 55, 6, 362297), 'lasting': datetime.timedelta(0, 0, 100000)}, 'threshold': 0.9, 'connections': {'neuron_z'}}\n",
      "neuron_h2 config:\n",
      " {'inputs': {'neuron_y': {'value': 1, 'kick_time': datetime.datetime(2016, 2, 6, 11, 55, 6, 285944), 'lasting': datetime.timedelta(0, 0, 500000)}, 'neuron_x': {'value': 1, 'kick_time': datetime.datetime(2016, 2, 6, 11, 55, 6, 176262), 'lasting': datetime.timedelta(0, 0, 500000)}}, 'weights': {'neuron_y': 1, 'neuron_x': 1}, 'output': {'value': 1, 'polarized_time': datetime.datetime(2016, 2, 6, 11, 55, 6, 331924), 'lasting': datetime.timedelta(0, 0, 100000)}, 'threshold': 1.9, 'connections': {'neuron_z'}}\n",
      "neuron_h1 config:\n",
      " {'inputs': {'neuron_x': {'value': 1, 'kick_time': datetime.datetime(2016, 2, 6, 11, 55, 6, 154517), 'lasting': datetime.timedelta(0, 0, 500000)}}, 'weights': {'neuron_x': 1}, 'output': {'value': 1, 'polarized_time': datetime.datetime(2016, 2, 6, 11, 55, 6, 238982), 'lasting': datetime.timedelta(0, 0, 100000)}, 'threshold': 0.9, 'connections': {'neuron_z'}}\n",
      "neuron_y config:\n",
      " {'inputs': {}, 'weights': {'sensor_y_2': 1, 'sensor_y_1': 1}, 'connections': {'neuron_h2', 'neuron_h3'}, 'threshold': 0.9, 'output': {'value': 1, 'polarized_time': datetime.datetime(2016, 2, 6, 11, 55, 6, 215826), 'lasting': datetime.timedelta(0, 0, 100000)}}\n",
      "neuron_x config:\n",
      " {'weights': {'sensor_x_2': 1, 'sensor_x_1': 1}, 'inputs': {}, 'connections': {'neuron_h1', 'neuron_h2'}, 'threshold': 0.9, 'output': {'value': 1, 'polarized_time': datetime.datetime(2016, 2, 6, 11, 55, 6, 94045), 'lasting': datetime.timedelta(0, 0, 100000)}}\n"
     ]
    }
   ],
   "source": [
    "for neuron in reversed(neurons): printConfig(neuron)"
   ]
  },
  {
   "cell_type": "markdown",
   "metadata": {},
   "source": [
    "## Summary\n",
    "\n",
    "  這次實驗，主要是想驗證 可以使用 Celery + Docker Swarm 快速地建構私有的 類似 Bluemix 的 IoT 平台，讓其上的 devices 共同組成一個分散式的協同運算系統，視整個 IoT(Internet of Things) 為一體。  \n",
    "  \n",
    "  本次實作的平台中，使用 2 台 Raspberry Pi 組成一個 Docker Swarm，run 6 個 containers，每個 container 扮演一個 device，也可視為一個 neuron。設定 neurons 之間的連結，好比是在設定 publisher / subscriber 的對應關係，其對應關係 可以是多對多。  \n",
    "  \n",
    "  可以使用這 6 個 neurons (devices / containers)，在設定好 connections / weights / thresholds 之後，組成一個 XOR網路，針對外接的 sensors 所感測到的環境狀態，依據 網路的pattern 決定最終的 output。"
   ]
  },
  {
   "cell_type": "markdown",
   "metadata": {},
   "source": [
    "## 後記 (2016/01/31)\n",
    "\n",
    "  後來發現 XOR網路 可能不會存在於現實世界的大腦中，因為要實現XOR網路 就必須要求 各訊號都同時到達，這在真實的世界中不大可能發生，而且就算發生了，因為這種機制會要求 \"等待\"，對系統整體的運算效能會造成很大的損失，我不認為是一個好的運算機制，大自然應該不會這樣設計大腦。"
   ]
  },
  {
   "cell_type": "markdown",
   "metadata": {},
   "source": [
    "### 參考資料\n",
    "[Action potential](https://en.wikipedia.org/wiki/Action_potential)  \n",
    "[Neural coding](https://en.wikipedia.org/wiki/Neural_coding)  \n",
    "[Artificial neuron](https://en.wikipedia.org/wiki/Artificial_neuron)  \n",
    "[\"All-or-none\" principle](https://en.wikipedia.org/wiki/Action_potential#.22All-or-none.22_principle)  \n",
    "[Refractory period](https://en.wikipedia.org/wiki/Action_potential#Refractory_period)  \n",
    "- The absolute refractory period is largely responsible for the unidirectional propagation of action potentials along axons.[34] At any given moment, the patch of axon behind the actively spiking part is refractory, but the patch in front, not having been activated recently, is capable of being stimulated by the depolarization from the action potential.  \n",
    "\n",
    "\n"
   ]
  }
 ],
 "metadata": {
  "kernelspec": {
   "display_name": "Python 3",
   "language": "python",
   "name": "python3"
  },
  "language_info": {
   "codemirror_mode": {
    "name": "ipython",
    "version": 3
   },
   "file_extension": ".py",
   "mimetype": "text/x-python",
   "name": "python",
   "nbconvert_exporter": "python",
   "pygments_lexer": "ipython3",
   "version": "3.5.1"
  }
 },
 "nbformat": 4,
 "nbformat_minor": 0
}
