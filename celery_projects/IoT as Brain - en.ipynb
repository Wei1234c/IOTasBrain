{
 "cells": [
  {
   "cell_type": "markdown",
   "metadata": {},
   "source": [
    "---\n",
    "\n",
    "### <font color=\"red\">config the network</font>"
   ]
  },
  {
   "cell_type": "code",
   "execution_count": 1,
   "metadata": {
    "collapsed": false
   },
   "outputs": [],
   "source": [
    "from IoT.neuron import * \n",
    "from time import sleep\n",
    "import pandas as pd\n",
    "from pandas import DataFrame\n",
    "\n",
    "pd.options.display.max_colwidth = 400\n",
    "REFRACTORY_PERIOD = 0.1   # 0.1 seconds"
   ]
  },
  {
   "cell_type": "code",
   "execution_count": 2,
   "metadata": {
    "collapsed": false
   },
   "outputs": [],
   "source": [
    "# there are 6 neurons，each is a Docker container，and was deployed on a Docker Swarm machine.\n",
    "neurons = ['neuron_x', 'neuron_y', 'neuron_h1', 'neuron_h2', 'neuron_h3', 'neuron_z'] \n",
    "\n",
    "# print log from a neuron\n",
    "def printConfig(neuron):\n",
    "    print('{0:_^78}\\n {1}\\n'.format(neuron + \" config:\", getConfig.apply_async(routing_key = neuron).get()))\n",
    "\n",
    "# clear log in a neuron  \n",
    "def emptyLogs():\n",
    "    for neuron in neurons:\n",
    "        emptyLog.apply_async(routing_key = neuron)\n",
    "\n",
    "# collect logs。concate logs from all neurons into a Pandas.DataFrame\n",
    "def mergeLogs():\n",
    "    logs = []\n",
    "    \n",
    "    for neuron in neurons:\n",
    "        currentLog = getLog.apply_async(routing_key = neuron).get()\n",
    "        logs += currentLog \n",
    "            \n",
    "    df = DataFrame(list(logs), columns = ['time', 'neuron', 'message']) \n",
    "    df.set_index('time', inplace = True)\n",
    "    df.sort_index(inplace = True)\n",
    "    \n",
    "    return df"
   ]
  },
  {
   "cell_type": "markdown",
   "metadata": {},
   "source": [
    "### clear log files"
   ]
  },
  {
   "cell_type": "code",
   "execution_count": 3,
   "metadata": {
    "collapsed": false
   },
   "outputs": [],
   "source": [
    "# clear logs from all neurons.\n",
    "emptyLogs()"
   ]
  },
  {
   "cell_type": "markdown",
   "metadata": {
    "collapsed": true
   },
   "source": [
    "### setup connections"
   ]
  },
  {
   "cell_type": "code",
   "execution_count": 4,
   "metadata": {
    "collapsed": false
   },
   "outputs": [
    {
     "data": {
      "text/plain": [
       "<AsyncResult: 01754554-a45b-48ee-bb1d-72bfb7428c79>"
      ]
     },
     "execution_count": 4,
     "metadata": {},
     "output_type": "execute_result"
    }
   ],
   "source": [
    "# input layer fan out\n",
    "# neuron x\n",
    "addConnection.apply_async(['neuron_h1'], routing_key = 'neuron_x')  # 增設 neuron_x -> neuron_h1 的 connection\n",
    "addConnection.apply_async(['neuron_h2'], routing_key = 'neuron_x')\n",
    "# neuron y\n",
    "addConnection.apply_async(['neuron_h2'], routing_key = 'neuron_y')  # 增設 neuron_y -> neuron_h2 的 connection\n",
    "addConnection.apply_async(['neuron_h3'], routing_key = 'neuron_y')\n",
    "\n",
    "# hidden layer fan out\n",
    "addConnection.apply_async(['neuron_z'], routing_key = 'neuron_h1')  # 增設 neuron_h1 -> neuron_z 的 connection\n",
    "addConnection.apply_async(['neuron_z'], routing_key = 'neuron_h2')\n",
    "addConnection.apply_async(['neuron_z'], routing_key = 'neuron_h3')"
   ]
  },
  {
   "cell_type": "markdown",
   "metadata": {},
   "source": [
    "### setup weights"
   ]
  },
  {
   "cell_type": "code",
   "execution_count": 5,
   "metadata": {
    "collapsed": false
   },
   "outputs": [
    {
     "data": {
      "text/plain": [
       "<AsyncResult: d1461e9e-1d44-4713-be90-465ac93b453a>"
      ]
     },
     "execution_count": 5,
     "metadata": {},
     "output_type": "execute_result"
    }
   ],
   "source": [
    "# hidden layer\n",
    "setWeight.apply_async(['neuron_x', 1], routing_key = 'neuron_h1')  # 設定 neuron_x -> neuron_h1 的 weight = 1\n",
    "setWeight.apply_async(['neuron_x', 1], routing_key = 'neuron_h2')\n",
    "setWeight.apply_async(['neuron_y', 1], routing_key = 'neuron_h2')  # 設定 neuron_y -> neuron_h2 的 weight = 1\n",
    "setWeight.apply_async(['neuron_y', 1], routing_key = 'neuron_h3')\n",
    "\n",
    "# output layer\n",
    "setWeight.apply_async(['neuron_h1', 1], routing_key = 'neuron_z')\n",
    "setWeight.apply_async(['neuron_h2', -2], routing_key = 'neuron_z')  # 設定 neuron_h2 -> neuron_z 的 weight = -2 (inhibitory)\n",
    "setWeight.apply_async(['neuron_h3', 1], routing_key = 'neuron_z') "
   ]
  },
  {
   "cell_type": "markdown",
   "metadata": {},
   "source": [
    "### setup thresholds"
   ]
  },
  {
   "cell_type": "code",
   "execution_count": 6,
   "metadata": {
    "collapsed": false
   },
   "outputs": [
    {
     "data": {
      "text/plain": [
       "<AsyncResult: a3be2285-1449-4b93-8922-0720baa3b5f2>"
      ]
     },
     "execution_count": 6,
     "metadata": {},
     "output_type": "execute_result"
    }
   ],
   "source": [
    "# input layer \n",
    "setThreshold.apply_async([0.9], routing_key = 'neuron_x')  # 設定 neuron_x 的 threshold = 0.9\n",
    "setThreshold.apply_async([0.9], routing_key = 'neuron_y') \n",
    "\n",
    "# hidden layer\n",
    "setThreshold.apply_async([0.9], routing_key = 'neuron_h1') \n",
    "setThreshold.apply_async([1.9], routing_key = 'neuron_h2')  # 設定 neuron_h2 的 threshold = 1.9\n",
    "setThreshold.apply_async([0.9], routing_key = 'neuron_h3')\n",
    "\n",
    "# output layer\n",
    "setThreshold.apply_async([0.9], routing_key = 'neuron_z')  # 設定 neuron_z 的 threshold = 0.9"
   ]
  },
  {
   "cell_type": "markdown",
   "metadata": {},
   "source": [
    "### simulate sensor inputs，and check status of neurons."
   ]
  },
  {
   "cell_type": "code",
   "execution_count": 7,
   "metadata": {
    "collapsed": false
   },
   "outputs": [
    {
     "data": {
      "text/html": [
       "<div>\n",
       "<table border=\"1\" class=\"dataframe\">\n",
       "  <thead>\n",
       "    <tr style=\"text-align: right;\">\n",
       "      <th></th>\n",
       "      <th>neuron</th>\n",
       "      <th>message</th>\n",
       "    </tr>\n",
       "    <tr>\n",
       "      <th>time</th>\n",
       "      <th></th>\n",
       "      <th></th>\n",
       "    </tr>\n",
       "  </thead>\n",
       "  <tbody>\n",
       "  </tbody>\n",
       "</table>\n",
       "</div>"
      ],
      "text/plain": [
       "Empty DataFrame\n",
       "Columns: [neuron, message]\n",
       "Index: []"
      ]
     },
     "execution_count": 7,
     "metadata": {},
     "output_type": "execute_result"
    }
   ],
   "source": [
    "emptyLogs()  # clear logs\n",
    "sleep(REFRACTORY_PERIOD)  # wait for stead state\n",
    "mergeLogs()  # summarize logs"
   ]
  },
  {
   "cell_type": "code",
   "execution_count": 8,
   "metadata": {
    "collapsed": false
   },
   "outputs": [
    {
     "data": {
      "text/html": [
       "<div>\n",
       "<table border=\"1\" class=\"dataframe\">\n",
       "  <thead>\n",
       "    <tr style=\"text-align: right;\">\n",
       "      <th></th>\n",
       "      <th>neuron</th>\n",
       "      <th>message</th>\n",
       "    </tr>\n",
       "    <tr>\n",
       "      <th>time</th>\n",
       "      <th></th>\n",
       "      <th></th>\n",
       "    </tr>\n",
       "  </thead>\n",
       "  <tbody>\n",
       "    <tr>\n",
       "      <th>2016-12-22 19:20:43.784441</th>\n",
       "      <td>neuron_x</td>\n",
       "      <td>neuron_x fires.</td>\n",
       "    </tr>\n",
       "    <tr>\n",
       "      <th>2016-12-22 19:20:43.788134</th>\n",
       "      <td>neuron_x</td>\n",
       "      <td>Setting output of neuron_x to ACTION_POTENTIAL.</td>\n",
       "    </tr>\n",
       "    <tr>\n",
       "      <th>2016-12-22 19:20:43.905049</th>\n",
       "      <td>neuron_h2</td>\n",
       "      <td>neuron_x is kicking neuron_h2.</td>\n",
       "    </tr>\n",
       "    <tr>\n",
       "      <th>2016-12-22 19:20:43.948279</th>\n",
       "      <td>neuron_h1</td>\n",
       "      <td>neuron_x is kicking neuron_h1.</td>\n",
       "    </tr>\n",
       "    <tr>\n",
       "      <th>2016-12-22 19:20:43.962901</th>\n",
       "      <td>neuron_h1</td>\n",
       "      <td>neuron_h1 fires.</td>\n",
       "    </tr>\n",
       "    <tr>\n",
       "      <th>2016-12-22 19:20:43.966272</th>\n",
       "      <td>neuron_h1</td>\n",
       "      <td>Setting output of neuron_h1 to ACTION_POTENTIAL.</td>\n",
       "    </tr>\n",
       "    <tr>\n",
       "      <th>2016-12-22 19:20:44.027375</th>\n",
       "      <td>neuron_z</td>\n",
       "      <td>neuron_h1 is kicking neuron_z.</td>\n",
       "    </tr>\n",
       "    <tr>\n",
       "      <th>2016-12-22 19:20:44.048686</th>\n",
       "      <td>neuron_z</td>\n",
       "      <td>neuron_z fires.</td>\n",
       "    </tr>\n",
       "    <tr>\n",
       "      <th>2016-12-22 19:20:44.052765</th>\n",
       "      <td>neuron_z</td>\n",
       "      <td>Setting output of neuron_z to ACTION_POTENTIAL.</td>\n",
       "    </tr>\n",
       "  </tbody>\n",
       "</table>\n",
       "</div>"
      ],
      "text/plain": [
       "                               neuron  \\\n",
       "time                                    \n",
       "2016-12-22 19:20:43.784441   neuron_x   \n",
       "2016-12-22 19:20:43.788134   neuron_x   \n",
       "2016-12-22 19:20:43.905049  neuron_h2   \n",
       "2016-12-22 19:20:43.948279  neuron_h1   \n",
       "2016-12-22 19:20:43.962901  neuron_h1   \n",
       "2016-12-22 19:20:43.966272  neuron_h1   \n",
       "2016-12-22 19:20:44.027375   neuron_z   \n",
       "2016-12-22 19:20:44.048686   neuron_z   \n",
       "2016-12-22 19:20:44.052765   neuron_z   \n",
       "\n",
       "                                                                     message  \n",
       "time                                                                          \n",
       "2016-12-22 19:20:43.784441                                   neuron_x fires.  \n",
       "2016-12-22 19:20:43.788134   Setting output of neuron_x to ACTION_POTENTIAL.  \n",
       "2016-12-22 19:20:43.905049                    neuron_x is kicking neuron_h2.  \n",
       "2016-12-22 19:20:43.948279                    neuron_x is kicking neuron_h1.  \n",
       "2016-12-22 19:20:43.962901                                  neuron_h1 fires.  \n",
       "2016-12-22 19:20:43.966272  Setting output of neuron_h1 to ACTION_POTENTIAL.  \n",
       "2016-12-22 19:20:44.027375                    neuron_h1 is kicking neuron_z.  \n",
       "2016-12-22 19:20:44.048686                                   neuron_z fires.  \n",
       "2016-12-22 19:20:44.052765   Setting output of neuron_z to ACTION_POTENTIAL.  "
      ]
     },
     "execution_count": 8,
     "metadata": {},
     "output_type": "execute_result"
    }
   ],
   "source": [
    "### force neuron x to ouput 1\n",
    "emptyLogs()  # clear logs\n",
    "sleep(REFRACTORY_PERIOD)  # wait for stead state\n",
    "fire.apply_async(routing_key = 'neuron_x') # force neuron x output 1 and fire.\n",
    "mergeLogs()  # summarize logs"
   ]
  },
  {
   "cell_type": "code",
   "execution_count": 9,
   "metadata": {
    "collapsed": false
   },
   "outputs": [
    {
     "data": {
      "text/html": [
       "<div>\n",
       "<table border=\"1\" class=\"dataframe\">\n",
       "  <thead>\n",
       "    <tr style=\"text-align: right;\">\n",
       "      <th></th>\n",
       "      <th>neuron</th>\n",
       "      <th>message</th>\n",
       "    </tr>\n",
       "    <tr>\n",
       "      <th>time</th>\n",
       "      <th></th>\n",
       "      <th></th>\n",
       "    </tr>\n",
       "  </thead>\n",
       "  <tbody>\n",
       "    <tr>\n",
       "      <th>2016-12-22 19:20:47.221569</th>\n",
       "      <td>neuron_y</td>\n",
       "      <td>neuron_y fires.</td>\n",
       "    </tr>\n",
       "    <tr>\n",
       "      <th>2016-12-22 19:20:47.225052</th>\n",
       "      <td>neuron_y</td>\n",
       "      <td>Setting output of neuron_y to ACTION_POTENTIAL.</td>\n",
       "    </tr>\n",
       "    <tr>\n",
       "      <th>2016-12-22 19:20:47.333917</th>\n",
       "      <td>neuron_h2</td>\n",
       "      <td>neuron_y is kicking neuron_h2.</td>\n",
       "    </tr>\n",
       "    <tr>\n",
       "      <th>2016-12-22 19:20:47.367095</th>\n",
       "      <td>neuron_h3</td>\n",
       "      <td>neuron_y is kicking neuron_h3.</td>\n",
       "    </tr>\n",
       "    <tr>\n",
       "      <th>2016-12-22 19:20:47.380941</th>\n",
       "      <td>neuron_h3</td>\n",
       "      <td>neuron_h3 fires.</td>\n",
       "    </tr>\n",
       "    <tr>\n",
       "      <th>2016-12-22 19:20:47.383612</th>\n",
       "      <td>neuron_h3</td>\n",
       "      <td>Setting output of neuron_h3 to ACTION_POTENTIAL.</td>\n",
       "    </tr>\n",
       "    <tr>\n",
       "      <th>2016-12-22 19:20:47.444634</th>\n",
       "      <td>neuron_z</td>\n",
       "      <td>neuron_h3 is kicking neuron_z.</td>\n",
       "    </tr>\n",
       "    <tr>\n",
       "      <th>2016-12-22 19:20:47.460059</th>\n",
       "      <td>neuron_z</td>\n",
       "      <td>neuron_z fires.</td>\n",
       "    </tr>\n",
       "    <tr>\n",
       "      <th>2016-12-22 19:20:47.463746</th>\n",
       "      <td>neuron_z</td>\n",
       "      <td>Setting output of neuron_z to ACTION_POTENTIAL.</td>\n",
       "    </tr>\n",
       "  </tbody>\n",
       "</table>\n",
       "</div>"
      ],
      "text/plain": [
       "                               neuron  \\\n",
       "time                                    \n",
       "2016-12-22 19:20:47.221569   neuron_y   \n",
       "2016-12-22 19:20:47.225052   neuron_y   \n",
       "2016-12-22 19:20:47.333917  neuron_h2   \n",
       "2016-12-22 19:20:47.367095  neuron_h3   \n",
       "2016-12-22 19:20:47.380941  neuron_h3   \n",
       "2016-12-22 19:20:47.383612  neuron_h3   \n",
       "2016-12-22 19:20:47.444634   neuron_z   \n",
       "2016-12-22 19:20:47.460059   neuron_z   \n",
       "2016-12-22 19:20:47.463746   neuron_z   \n",
       "\n",
       "                                                                     message  \n",
       "time                                                                          \n",
       "2016-12-22 19:20:47.221569                                   neuron_y fires.  \n",
       "2016-12-22 19:20:47.225052   Setting output of neuron_y to ACTION_POTENTIAL.  \n",
       "2016-12-22 19:20:47.333917                    neuron_y is kicking neuron_h2.  \n",
       "2016-12-22 19:20:47.367095                    neuron_y is kicking neuron_h3.  \n",
       "2016-12-22 19:20:47.380941                                  neuron_h3 fires.  \n",
       "2016-12-22 19:20:47.383612  Setting output of neuron_h3 to ACTION_POTENTIAL.  \n",
       "2016-12-22 19:20:47.444634                    neuron_h3 is kicking neuron_z.  \n",
       "2016-12-22 19:20:47.460059                                   neuron_z fires.  \n",
       "2016-12-22 19:20:47.463746   Setting output of neuron_z to ACTION_POTENTIAL.  "
      ]
     },
     "execution_count": 9,
     "metadata": {},
     "output_type": "execute_result"
    }
   ],
   "source": [
    "### force neuron y to ouput 1\n",
    "emptyLogs()  # clear logs\n",
    "sleep(REFRACTORY_PERIOD)  # wait for stead state.\n",
    "fire.apply_async(routing_key = 'neuron_y') # force neuron y output 1 and fire.\n",
    "mergeLogs()  # summarize logs"
   ]
  },
  {
   "cell_type": "code",
   "execution_count": 10,
   "metadata": {
    "collapsed": false
   },
   "outputs": [
    {
     "data": {
      "text/html": [
       "<div>\n",
       "<table border=\"1\" class=\"dataframe\">\n",
       "  <thead>\n",
       "    <tr style=\"text-align: right;\">\n",
       "      <th></th>\n",
       "      <th>neuron</th>\n",
       "      <th>message</th>\n",
       "    </tr>\n",
       "    <tr>\n",
       "      <th>time</th>\n",
       "      <th></th>\n",
       "      <th></th>\n",
       "    </tr>\n",
       "  </thead>\n",
       "  <tbody>\n",
       "    <tr>\n",
       "      <th>2016-12-22 19:20:50.764877</th>\n",
       "      <td>neuron_x</td>\n",
       "      <td>neuron_x fires.</td>\n",
       "    </tr>\n",
       "    <tr>\n",
       "      <th>2016-12-22 19:20:50.769051</th>\n",
       "      <td>neuron_x</td>\n",
       "      <td>Setting output of neuron_x to ACTION_POTENTIAL.</td>\n",
       "    </tr>\n",
       "    <tr>\n",
       "      <th>2016-12-22 19:20:50.786583</th>\n",
       "      <td>neuron_y</td>\n",
       "      <td>neuron_y fires.</td>\n",
       "    </tr>\n",
       "    <tr>\n",
       "      <th>2016-12-22 19:20:50.790631</th>\n",
       "      <td>neuron_y</td>\n",
       "      <td>Setting output of neuron_y to ACTION_POTENTIAL.</td>\n",
       "    </tr>\n",
       "    <tr>\n",
       "      <th>2016-12-22 19:20:50.887841</th>\n",
       "      <td>neuron_h2</td>\n",
       "      <td>neuron_x is kicking neuron_h2.</td>\n",
       "    </tr>\n",
       "    <tr>\n",
       "      <th>2016-12-22 19:20:50.907530</th>\n",
       "      <td>neuron_h1</td>\n",
       "      <td>neuron_x is kicking neuron_h1.</td>\n",
       "    </tr>\n",
       "    <tr>\n",
       "      <th>2016-12-22 19:20:50.930401</th>\n",
       "      <td>neuron_h1</td>\n",
       "      <td>neuron_h1 fires.</td>\n",
       "    </tr>\n",
       "    <tr>\n",
       "      <th>2016-12-22 19:20:50.933333</th>\n",
       "      <td>neuron_h1</td>\n",
       "      <td>Setting output of neuron_h1 to ACTION_POTENTIAL.</td>\n",
       "    </tr>\n",
       "    <tr>\n",
       "      <th>2016-12-22 19:20:50.956406</th>\n",
       "      <td>neuron_h3</td>\n",
       "      <td>neuron_y is kicking neuron_h3.</td>\n",
       "    </tr>\n",
       "    <tr>\n",
       "      <th>2016-12-22 19:20:50.984412</th>\n",
       "      <td>neuron_h3</td>\n",
       "      <td>neuron_h3 fires.</td>\n",
       "    </tr>\n",
       "    <tr>\n",
       "      <th>2016-12-22 19:20:50.991315</th>\n",
       "      <td>neuron_h3</td>\n",
       "      <td>Setting output of neuron_h3 to ACTION_POTENTIAL.</td>\n",
       "    </tr>\n",
       "    <tr>\n",
       "      <th>2016-12-22 19:20:50.995927</th>\n",
       "      <td>neuron_h2</td>\n",
       "      <td>neuron_y is kicking neuron_h2.</td>\n",
       "    </tr>\n",
       "    <tr>\n",
       "      <th>2016-12-22 19:20:50.998374</th>\n",
       "      <td>neuron_z</td>\n",
       "      <td>neuron_h1 is kicking neuron_z.</td>\n",
       "    </tr>\n",
       "    <tr>\n",
       "      <th>2016-12-22 19:20:51.019654</th>\n",
       "      <td>neuron_z</td>\n",
       "      <td>neuron_z fires.</td>\n",
       "    </tr>\n",
       "    <tr>\n",
       "      <th>2016-12-22 19:20:51.021244</th>\n",
       "      <td>neuron_h2</td>\n",
       "      <td>neuron_h2 fires.</td>\n",
       "    </tr>\n",
       "    <tr>\n",
       "      <th>2016-12-22 19:20:51.023920</th>\n",
       "      <td>neuron_z</td>\n",
       "      <td>Setting output of neuron_z to ACTION_POTENTIAL.</td>\n",
       "    </tr>\n",
       "    <tr>\n",
       "      <th>2016-12-22 19:20:51.028394</th>\n",
       "      <td>neuron_h2</td>\n",
       "      <td>Setting output of neuron_h2 to ACTION_POTENTIAL.</td>\n",
       "    </tr>\n",
       "    <tr>\n",
       "      <th>2016-12-22 19:20:51.070772</th>\n",
       "      <td>neuron_z</td>\n",
       "      <td>neuron_h3 is kicking neuron_z.</td>\n",
       "    </tr>\n",
       "    <tr>\n",
       "      <th>2016-12-22 19:20:51.090403</th>\n",
       "      <td>neuron_z</td>\n",
       "      <td>neuron_z is still in refractory-period.</td>\n",
       "    </tr>\n",
       "    <tr>\n",
       "      <th>2016-12-22 19:20:51.093631</th>\n",
       "      <td>neuron_z</td>\n",
       "      <td>neuron_z is still in refractory_period at action potential, then a neuron neuron_h3 kicks in, now sum_of_weighted_inputs &gt;= threshold.</td>\n",
       "    </tr>\n",
       "    <tr>\n",
       "      <th>2016-12-22 19:20:51.120976</th>\n",
       "      <td>neuron_z</td>\n",
       "      <td>neuron_h2 is kicking neuron_z.</td>\n",
       "    </tr>\n",
       "  </tbody>\n",
       "</table>\n",
       "</div>"
      ],
      "text/plain": [
       "                               neuron  \\\n",
       "time                                    \n",
       "2016-12-22 19:20:50.764877   neuron_x   \n",
       "2016-12-22 19:20:50.769051   neuron_x   \n",
       "2016-12-22 19:20:50.786583   neuron_y   \n",
       "2016-12-22 19:20:50.790631   neuron_y   \n",
       "2016-12-22 19:20:50.887841  neuron_h2   \n",
       "2016-12-22 19:20:50.907530  neuron_h1   \n",
       "2016-12-22 19:20:50.930401  neuron_h1   \n",
       "2016-12-22 19:20:50.933333  neuron_h1   \n",
       "2016-12-22 19:20:50.956406  neuron_h3   \n",
       "2016-12-22 19:20:50.984412  neuron_h3   \n",
       "2016-12-22 19:20:50.991315  neuron_h3   \n",
       "2016-12-22 19:20:50.995927  neuron_h2   \n",
       "2016-12-22 19:20:50.998374   neuron_z   \n",
       "2016-12-22 19:20:51.019654   neuron_z   \n",
       "2016-12-22 19:20:51.021244  neuron_h2   \n",
       "2016-12-22 19:20:51.023920   neuron_z   \n",
       "2016-12-22 19:20:51.028394  neuron_h2   \n",
       "2016-12-22 19:20:51.070772   neuron_z   \n",
       "2016-12-22 19:20:51.090403   neuron_z   \n",
       "2016-12-22 19:20:51.093631   neuron_z   \n",
       "2016-12-22 19:20:51.120976   neuron_z   \n",
       "\n",
       "                                                                                                                                                           message  \n",
       "time                                                                                                                                                                \n",
       "2016-12-22 19:20:50.764877                                                                                                                         neuron_x fires.  \n",
       "2016-12-22 19:20:50.769051                                                                                         Setting output of neuron_x to ACTION_POTENTIAL.  \n",
       "2016-12-22 19:20:50.786583                                                                                                                         neuron_y fires.  \n",
       "2016-12-22 19:20:50.790631                                                                                         Setting output of neuron_y to ACTION_POTENTIAL.  \n",
       "2016-12-22 19:20:50.887841                                                                                                          neuron_x is kicking neuron_h2.  \n",
       "2016-12-22 19:20:50.907530                                                                                                          neuron_x is kicking neuron_h1.  \n",
       "2016-12-22 19:20:50.930401                                                                                                                        neuron_h1 fires.  \n",
       "2016-12-22 19:20:50.933333                                                                                        Setting output of neuron_h1 to ACTION_POTENTIAL.  \n",
       "2016-12-22 19:20:50.956406                                                                                                          neuron_y is kicking neuron_h3.  \n",
       "2016-12-22 19:20:50.984412                                                                                                                        neuron_h3 fires.  \n",
       "2016-12-22 19:20:50.991315                                                                                        Setting output of neuron_h3 to ACTION_POTENTIAL.  \n",
       "2016-12-22 19:20:50.995927                                                                                                          neuron_y is kicking neuron_h2.  \n",
       "2016-12-22 19:20:50.998374                                                                                                          neuron_h1 is kicking neuron_z.  \n",
       "2016-12-22 19:20:51.019654                                                                                                                         neuron_z fires.  \n",
       "2016-12-22 19:20:51.021244                                                                                                                        neuron_h2 fires.  \n",
       "2016-12-22 19:20:51.023920                                                                                         Setting output of neuron_z to ACTION_POTENTIAL.  \n",
       "2016-12-22 19:20:51.028394                                                                                        Setting output of neuron_h2 to ACTION_POTENTIAL.  \n",
       "2016-12-22 19:20:51.070772                                                                                                          neuron_h3 is kicking neuron_z.  \n",
       "2016-12-22 19:20:51.090403                                                                                                 neuron_z is still in refractory-period.  \n",
       "2016-12-22 19:20:51.093631  neuron_z is still in refractory_period at action potential, then a neuron neuron_h3 kicks in, now sum_of_weighted_inputs >= threshold.  \n",
       "2016-12-22 19:20:51.120976                                                                                                          neuron_h2 is kicking neuron_z.  "
      ]
     },
     "execution_count": 10,
     "metadata": {},
     "output_type": "execute_result"
    }
   ],
   "source": [
    "### force neuron x and y to ouput 1\n",
    "emptyLogs()  # clear logs\n",
    "sleep(REFRACTORY_PERIOD)  # wait for stead state.\n",
    "fire.apply_async(routing_key = 'neuron_x') # force neuron x output 1 and fire.\n",
    "fire.apply_async(routing_key = 'neuron_y') # force neuron y output 1 and fire.\n",
    "mergeLogs()  # summarize logs"
   ]
  },
  {
   "cell_type": "markdown",
   "metadata": {},
   "source": [
    "### [Flower](http://192.168.0.114:5555) shows the status of each worker :\n",
    "\n",
    "![各 neuron 的活動次數](https://github.com/Wei1234c/IOTasBrain/raw/master/celery_projects/jpgs/flower2.jpg \"各 neuron 的活動次數\")"
   ]
  },
  {
   "cell_type": "markdown",
   "metadata": {},
   "source": [
    "### content of config files in each neurons:"
   ]
  },
  {
   "cell_type": "code",
   "execution_count": 11,
   "metadata": {
    "collapsed": false
   },
   "outputs": [
    {
     "name": "stdout",
     "output_type": "stream",
     "text": [
      "_______________________________neuron_z config:_______________________________\n",
      " {'inputs': {'neuron_h2': {'kick_time': datetime.datetime(2016, 12, 22, 19, 20, 51, 125376), 'lasting': datetime.timedelta(0, 0, 500000), 'value': 1}, 'neuron_h3': {'kick_time': datetime.datetime(2016, 12, 22, 19, 20, 51, 74644), 'lasting': datetime.timedelta(0, 0, 500000), 'value': 1}, 'neuron_h1': {'kick_time': datetime.datetime(2016, 12, 22, 19, 20, 51, 2932), 'lasting': datetime.timedelta(0, 0, 500000), 'value': 1}}, 'weights': {'neuron_h2': -2, 'neuron_h3': 1, 'neuron_h1': 1}, 'output': {'value': 1, 'lasting': datetime.timedelta(0, 0, 100000), 'polarized_time': datetime.datetime(2016, 12, 22, 19, 20, 51, 27395)}, 'threshold': 0.9}\n",
      "\n",
      "______________________________neuron_h3 config:_______________________________\n",
      " {'inputs': {'neuron_y': {'kick_time': datetime.datetime(2016, 12, 22, 19, 20, 50, 966575), 'lasting': datetime.timedelta(0, 0, 500000), 'value': 1}}, 'weights': {'neuron_y': 1}, 'connections': {'neuron_z'}, 'threshold': 0.9, 'output': {'polarized_time': datetime.datetime(2016, 12, 22, 19, 20, 50, 995422), 'lasting': datetime.timedelta(0, 0, 100000), 'value': 1}}\n",
      "\n",
      "______________________________neuron_h2 config:_______________________________\n",
      " {'inputs': {'neuron_y': {'kick_time': datetime.datetime(2016, 12, 22, 19, 20, 50, 999478), 'lasting': datetime.timedelta(0, 0, 500000), 'value': 1}, 'neuron_x': {'kick_time': datetime.datetime(2016, 12, 22, 19, 20, 50, 891263), 'lasting': datetime.timedelta(0, 0, 500000), 'value': 1}}, 'connections': {'neuron_z'}, 'weights': {'neuron_y': 1, 'neuron_x': 1}, 'output': {'polarized_time': datetime.datetime(2016, 12, 22, 19, 20, 51, 31717), 'lasting': datetime.timedelta(0, 0, 100000), 'value': 1}, 'threshold': 1.9}\n",
      "\n",
      "______________________________neuron_h1 config:_______________________________\n",
      " {'inputs': {'neuron_x': {'kick_time': datetime.datetime(2016, 12, 22, 19, 20, 50, 911286), 'value': 1, 'lasting': datetime.timedelta(0, 0, 500000)}}, 'connections': {'neuron_z'}, 'weights': {'neuron_x': 1}, 'output': {'value': 1, 'lasting': datetime.timedelta(0, 0, 100000), 'polarized_time': datetime.datetime(2016, 12, 22, 19, 20, 50, 940549)}, 'threshold': 0.9}\n",
      "\n",
      "_______________________________neuron_y config:_______________________________\n",
      " {'inputs': {}, 'connections': {'neuron_h2', 'neuron_h3'}, 'output': {'polarized_time': datetime.datetime(2016, 12, 22, 19, 20, 50, 800631), 'lasting': datetime.timedelta(0, 0, 100000), 'value': 1}, 'threshold': 0.9}\n",
      "\n",
      "_______________________________neuron_x config:_______________________________\n",
      " {'inputs': {}, 'connections': {'neuron_h2', 'neuron_h1'}, 'output': {'value': 1, 'lasting': datetime.timedelta(0, 0, 100000), 'polarized_time': datetime.datetime(2016, 12, 22, 19, 20, 50, 775531)}, 'threshold': 0.9}\n",
      "\n"
     ]
    }
   ],
   "source": [
    "for neuron in reversed(neurons): printConfig(neuron)"
   ]
  }
 ],
 "metadata": {
  "anaconda-cloud": {},
  "kernelspec": {
   "display_name": "Python [default]",
   "language": "python",
   "name": "python3"
  },
  "language_info": {
   "codemirror_mode": {
    "name": "ipython",
    "version": 3
   },
   "file_extension": ".py",
   "mimetype": "text/x-python",
   "name": "python",
   "nbconvert_exporter": "python",
   "pygments_lexer": "ipython3",
   "version": "3.5.1"
  }
 },
 "nbformat": 4,
 "nbformat_minor": 0
}
